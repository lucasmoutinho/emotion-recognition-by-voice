{
 "cells": [
  {
   "cell_type": "code",
   "execution_count": 2,
   "metadata": {},
   "outputs": [],
   "source": [
    "# Neural network imports\n",
    "from numpy import loadtxt\n",
    "from keras.models import Sequential\n",
    "from keras.layers import Dense"
   ]
  },
  {
   "cell_type": "code",
   "execution_count": 10,
   "metadata": {},
   "outputs": [],
   "source": [
    "# load the dataset\n",
    "dataset = loadtxt('voice-emotion-database.csv', delimiter=',', skiprows=1)"
   ]
  },
  {
   "cell_type": "code",
   "execution_count": 16,
   "metadata": {},
   "outputs": [
    {
     "name": "stdout",
     "output_type": "stream",
     "text": [
      "[[  0.          0.          0.          7.244975   -8.158391   -6.804606\n",
      "   -5.95105    16.04601     4.259685    2.918404    3.899431   -8.787468\n",
      "    2.029931   -9.035371   -1.614401   -9.214661    0.          5.\n",
      "    1.          4.       ]\n",
      " [  1.          0.          0.          3.385026    9.644617   -3.468472\n",
      "    6.205656   13.31692     4.477325   -3.002632  -21.12964    -4.892778\n",
      "  -11.55352     6.817298    5.058506  -30.31255     0.          5.\n",
      "    1.          4.       ]\n",
      " [  2.          0.          0.          5.719598    5.727946    6.571836\n",
      "   19.76121    17.95665    12.09366    -0.2149866  -4.745448   -3.547788\n",
      "   -9.468735   -1.699346   -1.552975  -29.19722     0.          5.\n",
      "    1.          1.       ]]\n",
      "(1066, 20)\n"
     ]
    }
   ],
   "source": [
    "# See dataset details\n",
    "print(dataset[:3])\n",
    "print(dataset.shape)"
   ]
  },
  {
   "cell_type": "code",
   "execution_count": 21,
   "metadata": {},
   "outputs": [
    {
     "name": "stdout",
     "output_type": "stream",
     "text": [
      "[[  7.244975   -8.158391   -6.804606   -5.95105    16.04601     4.259685\n",
      "    2.918404    3.899431   -8.787468    2.029931   -9.035371   -1.614401\n",
      "   -9.214661 ]\n",
      " [  3.385026    9.644617   -3.468472    6.205656   13.31692     4.477325\n",
      "   -3.002632  -21.12964    -4.892778  -11.55352     6.817298    5.058506\n",
      "  -30.31255  ]\n",
      " [  5.719598    5.727946    6.571836   19.76121    17.95665    12.09366\n",
      "   -0.2149866  -4.745448   -3.547788   -9.468735   -1.699346   -1.552975\n",
      "  -29.19722  ]]\n",
      "(1066, 13)\n",
      "[4. 4. 1.]\n",
      "(1066,)\n"
     ]
    }
   ],
   "source": [
    "# split into input (X) and output (y) variables\n",
    "X = dataset[:,3:16] # Only the MFCC features\n",
    "y = dataset[:,19] # Emotion label\n",
    "\n",
    "# See X and y details\n",
    "print(X[:3])\n",
    "print(X.shape)\n",
    "\n",
    "print(y[:3])\n",
    "print(y.shape)"
   ]
  },
  {
   "cell_type": "code",
   "execution_count": 26,
   "metadata": {},
   "outputs": [
    {
     "name": "stdout",
     "output_type": "stream",
     "text": [
      "\n",
      "X_train:\n",
      "\n",
      "[[  3.313348    4.443327   -4.241583   -4.363571   -3.05828     3.213391\n",
      "    0.7997808 -13.07504    -5.934295   -8.439043   -5.750751    1.748661\n",
      "  -18.85795  ]\n",
      " [ -2.45623    -1.182246   -1.553269    2.08759     6.993711    2.161998\n",
      "    9.408565   12.53375    -1.515539   -2.081131    9.978843   14.14571\n",
      "  -16.82007  ]\n",
      " [ -4.303337    9.984495   -4.385779    1.328745   10.73235     0.7617579\n",
      "   23.07996     3.595927    8.985842   11.05848     8.256836   10.33507\n",
      "   -9.41436  ]]\n",
      "(746, 13)\n",
      "\n",
      "X_test:\n",
      "\n",
      "[[  8.043121     6.358935    -0.07838726 -12.6693     -12.74262\n",
      "   12.06014     -8.499553    -3.254682    -3.674618   -11.83918\n",
      "    3.313677     8.212853    -6.175133  ]\n",
      " [ 11.32908      4.75175      3.188044     5.696038    10.78317\n",
      "   -6.493497   -14.68527     -8.222996    -5.558249     2.695052\n",
      "   -4.184447    -2.294148   -27.21452   ]\n",
      " [ -0.8351212    5.359626     3.555175    10.59575      9.693429\n",
      "    2.71118     12.54588      2.224721     1.877491    -6.727417\n",
      "    4.83064      7.573589   -18.5297    ]]\n",
      "(320, 13)\n",
      "\n",
      "y_train:\n",
      "\n",
      "[1. 1. 0.]\n",
      "(746,)\n",
      "\n",
      "y_test:\n",
      "\n",
      "[3. 1. 1.]\n",
      "(320,)\n"
     ]
    }
   ],
   "source": [
    "from sklearn.model_selection import train_test_split # to split dataset into train and test\n",
    "\n",
    "# Split the dataset in train and test\n",
    "X_train, X_test, y_train, y_test = train_test_split(X, y,test_size=0.3)\n",
    "\n",
    "# See Details\n",
    "print(\"\\nX_train:\\n\")\n",
    "print(X_train[:3])\n",
    "print(X_train.shape)\n",
    "\n",
    "print(\"\\nX_test:\\n\")\n",
    "print(X_test[:3])\n",
    "print(X_test.shape)\n",
    "\n",
    "print(\"\\ny_train:\\n\")\n",
    "print(y_train[:3])\n",
    "print(y_train.shape)\n",
    "\n",
    "print(\"\\ny_test:\\n\")\n",
    "print(y_test[:3])\n",
    "print(y_test.shape)"
   ]
  },
  {
   "cell_type": "code",
   "execution_count": 29,
   "metadata": {},
   "outputs": [
    {
     "name": "stdout",
     "output_type": "stream",
     "text": [
      "\n",
      "y_train:\n",
      "\n",
      "[[0 1 0 0 0 0 0]\n",
      " [0 1 0 0 0 0 0]\n",
      " [1 0 0 0 0 0 0]]\n",
      "(746, 7)\n",
      "\n",
      "y_test:\n",
      "\n",
      "[[0 0 0 1 0 0 0]\n",
      " [0 1 0 0 0 0 0]\n",
      " [0 1 0 0 0 0 0]]\n",
      "(320, 7)\n"
     ]
    }
   ],
   "source": [
    "from sklearn import preprocessing\n",
    "\n",
    "# Binarize labels\n",
    "lb = preprocessing.LabelBinarizer()\n",
    "y_train = lb.fit_transform(y_train)\n",
    "y_test = lb.fit_transform(y_test)\n",
    "\n",
    "# See Details\n",
    "print(\"\\ny_train:\\n\")\n",
    "print(y_train[:3])\n",
    "print(y_train.shape)\n",
    "\n",
    "print(\"\\ny_test:\\n\")\n",
    "print(y_test[:3])\n",
    "print(y_test.shape)"
   ]
  },
  {
   "cell_type": "code",
   "execution_count": 38,
   "metadata": {},
   "outputs": [],
   "source": [
    "# define the keras model\n",
    "model = Sequential()\n",
    "model.add(Dense(50, input_dim=13, activation='relu')) #input_dim = number of features. Hidden layer has 50, 20. Output layer has 7 (because of binarize)\n",
    "model.add(Dense(20, activation='relu'))\n",
    "model.add(Dense(7, activation='sigmoid'))"
   ]
  },
  {
   "cell_type": "code",
   "execution_count": 39,
   "metadata": {},
   "outputs": [],
   "source": [
    "# compile the keras model\n",
    "model.compile(loss='binary_crossentropy', optimizer='adam', metrics=['accuracy'])"
   ]
  },
  {
   "cell_type": "code",
   "execution_count": 40,
   "metadata": {},
   "outputs": [],
   "source": [
    "# Define bath and epochs\n",
    "batch_size = 128\n",
    "epochs = 12"
   ]
  },
  {
   "cell_type": "code",
   "execution_count": 41,
   "metadata": {},
   "outputs": [
    {
     "name": "stdout",
     "output_type": "stream",
     "text": [
      "WARNING:tensorflow:From /home/moutinho/.local/lib/python3.6/site-packages/keras/backend/tensorflow_backend.py:422: The name tf.global_variables is deprecated. Please use tf.compat.v1.global_variables instead.\n",
      "\n",
      "Train on 746 samples, validate on 320 samples\n",
      "Epoch 1/12\n",
      "746/746 [==============================] - 0s 228us/step - loss: 2.1192 - accuracy: 0.3820 - val_loss: 1.7481 - val_accuracy: 0.4460\n",
      "Epoch 2/12\n",
      "746/746 [==============================] - 0s 25us/step - loss: 1.5552 - accuracy: 0.4678 - val_loss: 1.2975 - val_accuracy: 0.5268\n",
      "Epoch 3/12\n",
      "746/746 [==============================] - 0s 33us/step - loss: 1.1798 - accuracy: 0.5592 - val_loss: 1.0052 - val_accuracy: 0.6080\n",
      "Epoch 4/12\n",
      "746/746 [==============================] - 0s 42us/step - loss: 0.9354 - accuracy: 0.6310 - val_loss: 0.8137 - val_accuracy: 0.6737\n",
      "Epoch 5/12\n",
      "746/746 [==============================] - 0s 39us/step - loss: 0.7727 - accuracy: 0.6817 - val_loss: 0.6912 - val_accuracy: 0.7179\n",
      "Epoch 6/12\n",
      "746/746 [==============================] - 0s 34us/step - loss: 0.6677 - accuracy: 0.7204 - val_loss: 0.6176 - val_accuracy: 0.7554\n",
      "Epoch 7/12\n",
      "746/746 [==============================] - 0s 28us/step - loss: 0.6060 - accuracy: 0.7528 - val_loss: 0.5766 - val_accuracy: 0.7835\n",
      "Epoch 8/12\n",
      "746/746 [==============================] - 0s 33us/step - loss: 0.5703 - accuracy: 0.7756 - val_loss: 0.5521 - val_accuracy: 0.8013\n",
      "Epoch 9/12\n",
      "746/746 [==============================] - 0s 36us/step - loss: 0.5463 - accuracy: 0.7951 - val_loss: 0.5351 - val_accuracy: 0.8121\n",
      "Epoch 10/12\n",
      "746/746 [==============================] - 0s 32us/step - loss: 0.5292 - accuracy: 0.8020 - val_loss: 0.5224 - val_accuracy: 0.8188\n",
      "Epoch 11/12\n",
      "746/746 [==============================] - 0s 30us/step - loss: 0.5146 - accuracy: 0.8123 - val_loss: 0.5115 - val_accuracy: 0.8223\n",
      "Epoch 12/12\n",
      "746/746 [==============================] - 0s 29us/step - loss: 0.5020 - accuracy: 0.8177 - val_loss: 0.5021 - val_accuracy: 0.8277\n"
     ]
    },
    {
     "data": {
      "text/plain": [
       "<keras.callbacks.callbacks.History at 0x7ff24a6e66d8>"
      ]
     },
     "execution_count": 41,
     "metadata": {},
     "output_type": "execute_result"
    }
   ],
   "source": [
    "# Fit model\n",
    "model.fit(X_train, y_train,\n",
    "          batch_size=batch_size,\n",
    "          epochs=epochs,\n",
    "          verbose=1,\n",
    "          validation_data=(X_test, y_test))"
   ]
  },
  {
   "cell_type": "code",
   "execution_count": 44,
   "metadata": {},
   "outputs": [
    {
     "name": "stdout",
     "output_type": "stream",
     "text": [
      "320/320 [==============================] - 0s 19us/step\n",
      "Test loss: 0.5021097153425217\n",
      "Test accuracy: 0.8276785612106323\n"
     ]
    }
   ],
   "source": [
    "# Score Model\n",
    "score = model.evaluate(X_test, y_test, verbose=1)\n",
    "print('Test loss:', score[0])\n",
    "print('Test accuracy:', score[1])"
   ]
  },
  {
   "cell_type": "code",
   "execution_count": 45,
   "metadata": {},
   "outputs": [
    {
     "name": "stdout",
     "output_type": "stream",
     "text": [
      "Model: \"sequential_3\"\n",
      "_________________________________________________________________\n",
      "Layer (type)                 Output Shape              Param #   \n",
      "=================================================================\n",
      "dense_7 (Dense)              (None, 50)                700       \n",
      "_________________________________________________________________\n",
      "dense_8 (Dense)              (None, 20)                1020      \n",
      "_________________________________________________________________\n",
      "dense_9 (Dense)              (None, 7)                 147       \n",
      "=================================================================\n",
      "Total params: 1,867\n",
      "Trainable params: 1,867\n",
      "Non-trainable params: 0\n",
      "_________________________________________________________________\n"
     ]
    }
   ],
   "source": [
    "# Model Summary\n",
    "model.summary()"
   ]
  }
 ],
 "metadata": {
  "kernelspec": {
   "display_name": "Python 3",
   "language": "python",
   "name": "python3"
  },
  "language_info": {
   "codemirror_mode": {
    "name": "ipython",
    "version": 3
   },
   "file_extension": ".py",
   "mimetype": "text/x-python",
   "name": "python",
   "nbconvert_exporter": "python",
   "pygments_lexer": "ipython3",
   "version": "3.6.8"
  }
 },
 "nbformat": 4,
 "nbformat_minor": 2
}
