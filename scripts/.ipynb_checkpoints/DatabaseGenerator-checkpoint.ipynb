{
 "cells": [
  {
   "cell_type": "code",
   "execution_count": 6,
   "metadata": {},
   "outputs": [],
   "source": [
    "import numpy as np\n",
    "import pandas as pd\n",
    "import os"
   ]
  },
  {
   "cell_type": "code",
   "execution_count": null,
   "metadata": {},
   "outputs": [],
   "source": []
  },
  {
   "cell_type": "code",
   "execution_count": 7,
   "metadata": {},
   "outputs": [],
   "source": [
    "DATASET_PATH = 'mfcc'\n",
    "RECURSIVE = False"
   ]
  },
  {
   "cell_type": "code",
   "execution_count": 14,
   "metadata": {},
   "outputs": [],
   "source": [
    "def get_all_filepaths(path):\n",
    "    result_filepaths = []\n",
    "    \n",
    "    for inst in os.listdir(path):\n",
    "        recursive_file_instances = []\n",
    "        if os.path.isdir(\"{}/{}\".format(path, inst)):\n",
    "            recursive_file_instances = get_all_filepaths(\"{}/{}\".format(path, inst))\n",
    "            for filepath in recursive_file_instances:\n",
    "                result_filepaths.append(filepath)\n",
    "                \n",
    "        else:\n",
    "            result_filepaths.append(\"{}/{}\".format(path, inst))\n",
    "\n",
    "    return result_filepaths + recursive_file_instances"
   ]
  },
  {
   "cell_type": "code",
   "execution_count": 17,
   "metadata": {},
   "outputs": [],
   "source": [
    "filepaths = get_all_filepaths(DATASET_PATH)"
   ]
  },
  {
   "cell_type": "code",
   "execution_count": 29,
   "metadata": {},
   "outputs": [],
   "source": [
    "def translate_emotion(filepath):\n",
    "    filename = filepath.split('/')[-1]\n",
    "    token = filename.split('-')[0]\n",
    "    return {\n",
    "        'ale': 0,\n",
    "        'des': 1,\n",
    "        'med': 2,\n",
    "        'neu': 3,\n",
    "        'rai': 4,\n",
    "        'sur': 5,\n",
    "        'tri': 6\n",
    "    }[token]    "
   ]
  },
  {
   "cell_type": "code",
   "execution_count": 30,
   "metadata": {},
   "outputs": [],
   "source": [
    "X_dataset = []\n",
    "Y_dataset = []\n",
    "\n",
    "for filepath in filepaths:\n",
    "    inst = pd.read_csv(filepath, delimiter=';')\n",
    "    emotion = translate_emotion(filepath)\n",
    "    X_dataset.append(inst.values)\n",
    "    Y_dataset.append(int(emotion))"
   ]
  },
  {
   "cell_type": "code",
   "execution_count": 41,
   "metadata": {},
   "outputs": [
    {
     "data": {
      "text/plain": [
       "array([ 1.000000e+00,  1.000000e-02,  5.674477e-01,  4.220891e+00,\n",
       "        1.143312e+00, -1.340085e+01, -1.018914e+01, -1.291791e+01,\n",
       "        1.339951e+01,  4.897655e+00, -2.713787e+00, -4.897564e+00,\n",
       "       -5.142813e+00,  2.773385e+00, -4.549877e+00,  6.784790e+00])"
      ]
     },
     "execution_count": 41,
     "metadata": {},
     "output_type": "execute_result"
    }
   ],
   "source": [
    "np.array(X_datset)"
   ]
  },
  {
   "cell_type": "code",
   "execution_count": 49,
   "metadata": {},
   "outputs": [
    {
     "data": {
      "text/plain": [
       "array([ 1.000000e+00,  1.000000e-02,  5.674477e-01,  4.220891e+00,\n",
       "        1.143312e+00, -1.340085e+01, -1.018914e+01, -1.291791e+01,\n",
       "        1.339951e+01,  4.897655e+00, -2.713787e+00, -4.897564e+00,\n",
       "       -5.142813e+00,  2.773385e+00, -4.549877e+00,  6.784790e+00])"
      ]
     },
     "execution_count": 49,
     "metadata": {},
     "output_type": "execute_result"
    }
   ],
   "source": []
  },
  {
   "cell_type": "code",
   "execution_count": 46,
   "metadata": {},
   "outputs": [
    {
     "data": {
      "text/html": [
       "<div>\n",
       "<style scoped>\n",
       "    .dataframe tbody tr th:only-of-type {\n",
       "        vertical-align: middle;\n",
       "    }\n",
       "\n",
       "    .dataframe tbody tr th {\n",
       "        vertical-align: top;\n",
       "    }\n",
       "\n",
       "    .dataframe thead th {\n",
       "        text-align: right;\n",
       "    }\n",
       "</style>\n",
       "<table border=\"1\" class=\"dataframe\">\n",
       "  <thead>\n",
       "    <tr style=\"text-align: right;\">\n",
       "      <th></th>\n",
       "      <th>0</th>\n",
       "    </tr>\n",
       "  </thead>\n",
       "  <tbody>\n",
       "    <tr>\n",
       "      <th>0</th>\n",
       "      <td>[[0.0, 0.0, -2.746883, 7.790681, -0.7099397, -...</td>\n",
       "    </tr>\n",
       "    <tr>\n",
       "      <th>1</th>\n",
       "      <td>[[0.0, 0.0, 1.266397, -6.784324000000001, 7.64...</td>\n",
       "    </tr>\n",
       "    <tr>\n",
       "      <th>2</th>\n",
       "      <td>[[0.0, 0.0, -2.2119869999999997, -1.5309409999...</td>\n",
       "    </tr>\n",
       "    <tr>\n",
       "      <th>3</th>\n",
       "      <td>[[0.0, 0.0, -20.323929999999997, 12.77873, -1....</td>\n",
       "    </tr>\n",
       "    <tr>\n",
       "      <th>4</th>\n",
       "      <td>[[0.0, 0.0, 7.274622999999999, 5.058002, -5.74...</td>\n",
       "    </tr>\n",
       "    <tr>\n",
       "      <th>...</th>\n",
       "      <td>...</td>\n",
       "    </tr>\n",
       "    <tr>\n",
       "      <th>2189</th>\n",
       "      <td>[[0.0, 0.0, -3.363778, -13.23238, 1.556659, -0...</td>\n",
       "    </tr>\n",
       "    <tr>\n",
       "      <th>2190</th>\n",
       "      <td>[[0.0, 0.0, 1.217867, -2.984754, 2.226297, 3.7...</td>\n",
       "    </tr>\n",
       "    <tr>\n",
       "      <th>2191</th>\n",
       "      <td>[[0.0, 0.0, 1.4378229999999999, 6.91321, 4.724...</td>\n",
       "    </tr>\n",
       "    <tr>\n",
       "      <th>2192</th>\n",
       "      <td>[[0.0, 0.0, 2.799228, -2.822879, 4.358025, -12...</td>\n",
       "    </tr>\n",
       "    <tr>\n",
       "      <th>2193</th>\n",
       "      <td>[[0.0, 0.0, -16.440379999999998, 10.07817, -5....</td>\n",
       "    </tr>\n",
       "  </tbody>\n",
       "</table>\n",
       "<p>2194 rows × 1 columns</p>\n",
       "</div>"
      ],
      "text/plain": [
       "                                                      0\n",
       "0     [[0.0, 0.0, -2.746883, 7.790681, -0.7099397, -...\n",
       "1     [[0.0, 0.0, 1.266397, -6.784324000000001, 7.64...\n",
       "2     [[0.0, 0.0, -2.2119869999999997, -1.5309409999...\n",
       "3     [[0.0, 0.0, -20.323929999999997, 12.77873, -1....\n",
       "4     [[0.0, 0.0, 7.274622999999999, 5.058002, -5.74...\n",
       "...                                                 ...\n",
       "2189  [[0.0, 0.0, -3.363778, -13.23238, 1.556659, -0...\n",
       "2190  [[0.0, 0.0, 1.217867, -2.984754, 2.226297, 3.7...\n",
       "2191  [[0.0, 0.0, 1.4378229999999999, 6.91321, 4.724...\n",
       "2192  [[0.0, 0.0, 2.799228, -2.822879, 4.358025, -12...\n",
       "2193  [[0.0, 0.0, -16.440379999999998, 10.07817, -5....\n",
       "\n",
       "[2194 rows x 1 columns]"
      ]
     },
     "execution_count": 46,
     "metadata": {},
     "output_type": "execute_result"
    }
   ],
   "source": []
  },
  {
   "cell_type": "code",
   "execution_count": null,
   "metadata": {},
   "outputs": [],
   "source": []
  },
  {
   "cell_type": "code",
   "execution_count": null,
   "metadata": {},
   "outputs": [],
   "source": []
  },
  {
   "cell_type": "code",
   "execution_count": null,
   "metadata": {},
   "outputs": [],
   "source": []
  },
  {
   "cell_type": "code",
   "execution_count": 50,
   "metadata": {},
   "outputs": [],
   "source": [
    "X_dataset_pd = pd.Series(X_dataset).to_frame()\n",
    "Y_dataset_pd = pd.DataFrame(Y_dataset)\n",
    "X_dataset_pd.to_csv(\"x_dataset.csv\")\n",
    "Y_dataset_pd.to_csv(\"y_dataset.csv\")"
   ]
  },
  {
   "cell_type": "code",
   "execution_count": 21,
   "metadata": {},
   "outputs": [],
   "source": [
    "filepath = filepaths[0]"
   ]
  },
  {
   "cell_type": "code",
   "execution_count": 26,
   "metadata": {},
   "outputs": [],
   "source": [
    "inst = pd.read_csv(filepath, delimiter=';')"
   ]
  },
  {
   "cell_type": "code",
   "execution_count": 28,
   "metadata": {},
   "outputs": [
    {
     "data": {
      "text/plain": [
       "array([[ 0.000000e+00,  0.000000e+00, -2.746883e+00, ..., -3.321906e+00,\n",
       "        -7.890698e+00,  5.698227e+00],\n",
       "       [ 1.000000e+00,  1.000000e-02,  5.674477e-01, ...,  2.773385e+00,\n",
       "        -4.549877e+00,  6.784790e+00],\n",
       "       [ 2.000000e+00,  2.000000e-02,  1.063840e+00, ...,  5.366944e+00,\n",
       "        -3.689753e+00,  6.108765e+00],\n",
       "       ...,\n",
       "       [ 9.300000e+01,  9.300000e-01,  2.347147e+00, ...,  7.236919e-01,\n",
       "        -7.664579e+00, -3.982651e+00],\n",
       "       [ 9.400000e+01,  9.400000e-01,  3.410085e+00, ..., -1.752249e+00,\n",
       "        -8.177073e+00, -4.060295e+00],\n",
       "       [ 9.500000e+01,  9.500000e-01,  4.727669e+00, ..., -5.392554e+00,\n",
       "        -7.306802e+00, -4.881371e+00]])"
      ]
     },
     "execution_count": 28,
     "metadata": {},
     "output_type": "execute_result"
    }
   ],
   "source": [
    "inst.values"
   ]
  }
 ],
 "metadata": {
  "kernelspec": {
   "display_name": "Python 3",
   "language": "python",
   "name": "python3"
  },
  "language_info": {
   "codemirror_mode": {
    "name": "ipython",
    "version": 3
   },
   "file_extension": ".py",
   "mimetype": "text/x-python",
   "name": "python",
   "nbconvert_exporter": "python",
   "pygments_lexer": "ipython3",
   "version": "3.6.9"
  }
 },
 "nbformat": 4,
 "nbformat_minor": 4
}
