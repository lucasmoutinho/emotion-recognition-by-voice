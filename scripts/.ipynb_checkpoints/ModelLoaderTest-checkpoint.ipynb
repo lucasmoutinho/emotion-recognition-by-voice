{
 "cells": [
  {
   "cell_type": "code",
   "execution_count": 1,
   "metadata": {},
   "outputs": [
    {
     "name": "stderr",
     "output_type": "stream",
     "text": [
      "Using TensorFlow backend.\n",
      "/home/moutinho/.local/lib/python3.6/site-packages/tensorflow/python/framework/dtypes.py:516: FutureWarning: Passing (type, 1) or '1type' as a synonym of type is deprecated; in a future version of numpy, it will be understood as (type, (1,)) / '(1,)type'.\n",
      "  _np_qint8 = np.dtype([(\"qint8\", np.int8, 1)])\n",
      "/home/moutinho/.local/lib/python3.6/site-packages/tensorflow/python/framework/dtypes.py:517: FutureWarning: Passing (type, 1) or '1type' as a synonym of type is deprecated; in a future version of numpy, it will be understood as (type, (1,)) / '(1,)type'.\n",
      "  _np_quint8 = np.dtype([(\"quint8\", np.uint8, 1)])\n",
      "/home/moutinho/.local/lib/python3.6/site-packages/tensorflow/python/framework/dtypes.py:518: FutureWarning: Passing (type, 1) or '1type' as a synonym of type is deprecated; in a future version of numpy, it will be understood as (type, (1,)) / '(1,)type'.\n",
      "  _np_qint16 = np.dtype([(\"qint16\", np.int16, 1)])\n",
      "/home/moutinho/.local/lib/python3.6/site-packages/tensorflow/python/framework/dtypes.py:519: FutureWarning: Passing (type, 1) or '1type' as a synonym of type is deprecated; in a future version of numpy, it will be understood as (type, (1,)) / '(1,)type'.\n",
      "  _np_quint16 = np.dtype([(\"quint16\", np.uint16, 1)])\n",
      "/home/moutinho/.local/lib/python3.6/site-packages/tensorflow/python/framework/dtypes.py:520: FutureWarning: Passing (type, 1) or '1type' as a synonym of type is deprecated; in a future version of numpy, it will be understood as (type, (1,)) / '(1,)type'.\n",
      "  _np_qint32 = np.dtype([(\"qint32\", np.int32, 1)])\n",
      "/home/moutinho/.local/lib/python3.6/site-packages/tensorflow/python/framework/dtypes.py:525: FutureWarning: Passing (type, 1) or '1type' as a synonym of type is deprecated; in a future version of numpy, it will be understood as (type, (1,)) / '(1,)type'.\n",
      "  np_resource = np.dtype([(\"resource\", np.ubyte, 1)])\n",
      "/home/moutinho/.local/lib/python3.6/site-packages/tensorboard/compat/tensorflow_stub/dtypes.py:541: FutureWarning: Passing (type, 1) or '1type' as a synonym of type is deprecated; in a future version of numpy, it will be understood as (type, (1,)) / '(1,)type'.\n",
      "  _np_qint8 = np.dtype([(\"qint8\", np.int8, 1)])\n",
      "/home/moutinho/.local/lib/python3.6/site-packages/tensorboard/compat/tensorflow_stub/dtypes.py:542: FutureWarning: Passing (type, 1) or '1type' as a synonym of type is deprecated; in a future version of numpy, it will be understood as (type, (1,)) / '(1,)type'.\n",
      "  _np_quint8 = np.dtype([(\"quint8\", np.uint8, 1)])\n",
      "/home/moutinho/.local/lib/python3.6/site-packages/tensorboard/compat/tensorflow_stub/dtypes.py:543: FutureWarning: Passing (type, 1) or '1type' as a synonym of type is deprecated; in a future version of numpy, it will be understood as (type, (1,)) / '(1,)type'.\n",
      "  _np_qint16 = np.dtype([(\"qint16\", np.int16, 1)])\n",
      "/home/moutinho/.local/lib/python3.6/site-packages/tensorboard/compat/tensorflow_stub/dtypes.py:544: FutureWarning: Passing (type, 1) or '1type' as a synonym of type is deprecated; in a future version of numpy, it will be understood as (type, (1,)) / '(1,)type'.\n",
      "  _np_quint16 = np.dtype([(\"quint16\", np.uint16, 1)])\n",
      "/home/moutinho/.local/lib/python3.6/site-packages/tensorboard/compat/tensorflow_stub/dtypes.py:545: FutureWarning: Passing (type, 1) or '1type' as a synonym of type is deprecated; in a future version of numpy, it will be understood as (type, (1,)) / '(1,)type'.\n",
      "  _np_qint32 = np.dtype([(\"qint32\", np.int32, 1)])\n",
      "/home/moutinho/.local/lib/python3.6/site-packages/tensorboard/compat/tensorflow_stub/dtypes.py:550: FutureWarning: Passing (type, 1) or '1type' as a synonym of type is deprecated; in a future version of numpy, it will be understood as (type, (1,)) / '(1,)type'.\n",
      "  np_resource = np.dtype([(\"resource\", np.ubyte, 1)])\n"
     ]
    }
   ],
   "source": [
    "from keras.models import load_model\n",
    "import pandas as pd\n",
    "from keras.utils import to_categorical\n",
    "from sklearn.model_selection import train_test_split # to split dataset into train and test\n",
    "import numpy as np\n"
   ]
  },
  {
   "cell_type": "code",
   "execution_count": 2,
   "metadata": {},
   "outputs": [],
   "source": [
    "from sklearn import preprocessing\n",
    "import pandas as pd\n",
    "\n",
    "# This function returns a normalized version of the input dataframe \n",
    "def normalize(df):\n",
    "    normalized_df = df.copy()\n",
    "    for feature_name in df.columns:\n",
    "        max_value = df[feature_name].max()\n",
    "        min_value = df[feature_name].min()\n",
    "        normalized_df[feature_name] = (df[feature_name] - min_value) / (max_value - min_value)\n",
    "    return normalized_df\n",
    "\n",
    "# This function Standarize by removing mean and scaling to unit variance\n",
    "# It receives X_train and X_test and returns its update values\n",
    "def standarization_unit_variance(X_train, X_test):\n",
    "    # Select numerical columns which needs to be standarized\n",
    "    train_norm = X_train[X_train.columns]\n",
    "    test_norm = X_test[X_test.columns]\n",
    "\n",
    "    # Standarize Training Data\n",
    "    # Use the mean from train to scale test too\n",
    "    std_scale = preprocessing.StandardScaler().fit(train_norm)\n",
    "    X_train_norm = std_scale.transform(train_norm)\n",
    "    X_test_norm = std_scale.transform(test_norm)\n",
    "\n",
    "    # Converting numpy array to dataframe\n",
    "    training_norm_col = pd.DataFrame(X_train_norm, index=train_norm.index, columns=train_norm.columns) \n",
    "    testing_norm_col = pd.DataFrame(X_test_norm, index=test_norm.index, columns=test_norm.columns) \n",
    "    X_train.update(training_norm_col)\n",
    "    X_test.update(testing_norm_col)\n",
    "\n",
    "    return X_train, X_test"
   ]
  },
  {
   "cell_type": "code",
   "execution_count": 3,
   "metadata": {},
   "outputs": [],
   "source": [
    "## Read and Split Dataset\n",
    "DATASET_PATH = \"../datasets/dataset_48.csv\"\n",
    "df = pd.read_csv(DATASET_PATH, sep=\",\")\n",
    "\n",
    "# # Agroup labels\n",
    "# df['emotion'] = np.where((df.emotion == 0) | (df.emotion == 5), 7, df.emotion) # positive emotions\n",
    "# df['emotion'] = np.where((df.emotion == 3), 8, df.emotion) # neutral emotion\n",
    "# df['emotion'] = np.where((df.emotion == 1) | (df.emotion == 2) | (df.emotion == 4) | (df.emotion == 6), 9, df.emotion) # negative emotions\n",
    "# df['emotion'] = df['emotion'] - 7\n",
    "\n",
    "X = df[df.columns[3:51]] # Only the MFCC features\n",
    "y = df[df.columns[-1]] # Emotion label\n",
    "\n",
    "# Normalization of input features in X\n",
    "X = normalize(X)\n",
    "\n",
    "# Split the dataset in train and test\n",
    "X_train, X_test, y_train, y_test = train_test_split(X, y,test_size=0.3)"
   ]
  },
  {
   "cell_type": "code",
   "execution_count": 4,
   "metadata": {},
   "outputs": [
    {
     "name": "stdout",
     "output_type": "stream",
     "text": [
      "WARNING:tensorflow:From /home/moutinho/.local/lib/python3.6/site-packages/keras/backend/tensorflow_backend.py:4070: The name tf.nn.max_pool is deprecated. Please use tf.nn.max_pool2d instead.\n",
      "\n",
      "WARNING:tensorflow:From /home/moutinho/.local/lib/python3.6/site-packages/keras/backend/tensorflow_backend.py:422: The name tf.global_variables is deprecated. Please use tf.compat.v1.global_variables instead.\n",
      "\n"
     ]
    }
   ],
   "source": [
    "## Load Model from Checkpoint function\"\n",
    "path = '../models/model_checkpoints/test_model.h5'\n",
    "model = load_model(path)"
   ]
  },
  {
   "cell_type": "code",
   "execution_count": 5,
   "metadata": {},
   "outputs": [
    {
     "name": "stdout",
     "output_type": "stream",
     "text": [
      "320/320 [==============================] - 1s 2ms/step\n"
     ]
    }
   ],
   "source": [
    "## 'Manual' predictions\n",
    "X_testcnn = np.expand_dims(X_test, axis=2)\n",
    "preds = model.predict(X_testcnn, \n",
    "                         batch_size=16, \n",
    "                         verbose=1)"
   ]
  },
  {
   "cell_type": "code",
   "execution_count": 6,
   "metadata": {},
   "outputs": [
    {
     "data": {
      "text/plain": [
       "array([5, 4, 4, 3, 1, 4, 1, 3, 4, 0, 4, 2, 0, 3, 2, 6, 0, 6, 6, 2, 4, 6,\n",
       "       6, 6, 5, 1, 6, 6, 3, 1, 6, 3, 2, 3, 0, 1, 6, 0, 6, 3, 6, 6, 1, 1,\n",
       "       1, 1, 0, 0, 1, 2, 4, 2, 6, 1, 4, 5, 6, 6, 4, 1, 5, 2, 5, 3, 6, 5,\n",
       "       5, 5, 4, 1, 3, 3, 5, 2, 6, 6, 0, 2, 4, 6, 6, 5, 6, 3, 2, 2, 3, 5,\n",
       "       1, 5, 3, 3, 4, 6, 6, 6, 1, 0, 2, 2, 2, 4, 3, 3, 5, 6, 5, 6, 0, 6,\n",
       "       6, 4, 3, 5, 5, 6, 6, 3, 1, 6, 4, 6, 5, 6, 6, 5, 6, 1, 6, 4, 6, 3,\n",
       "       5, 3, 0, 6, 3, 6, 3, 3, 0, 4, 0, 3, 1, 6, 1, 3, 1, 6, 6, 0, 3, 6,\n",
       "       5, 5, 0, 3, 6, 0, 3, 5, 4, 6, 3, 2, 1, 2, 6, 4, 3, 3, 6, 1, 6, 6,\n",
       "       3, 6, 2, 2, 6, 6, 1, 3, 4, 4, 2, 5, 0, 6, 6, 4, 2, 2, 4, 1, 6, 6,\n",
       "       3, 1, 2, 2, 6, 1, 4, 0, 2, 6, 0, 6, 5, 2, 6, 6, 0, 5, 6, 2, 6, 5,\n",
       "       0, 1, 3, 4, 6, 0, 3, 5, 3, 3, 5, 0, 2, 2, 1, 5, 6, 1, 4, 5, 4, 5,\n",
       "       3, 5, 5, 0, 0, 4, 6, 4, 5, 4, 2, 6, 0, 2, 0, 6, 3, 4, 6, 1, 4, 6,\n",
       "       4, 2, 0, 5, 2, 6, 3, 6, 3, 3, 6, 0, 1, 5, 6, 2, 0, 1, 6, 6, 4, 0,\n",
       "       3, 6, 0, 3, 4, 6, 3, 2, 6, 0, 1, 6, 2, 0, 5, 6, 3, 6, 3, 5, 1, 6,\n",
       "       6, 6, 4, 0, 5, 3, 2, 5, 6, 6, 2, 1])"
      ]
     },
     "execution_count": 6,
     "metadata": {},
     "output_type": "execute_result"
    }
   ],
   "source": [
    "preds1=preds.argmax(axis=1)\n",
    "preds1"
   ]
  },
  {
   "cell_type": "code",
   "execution_count": 7,
   "metadata": {},
   "outputs": [
    {
     "data": {
      "text/plain": [
       "array([5, 4, 0, 1, 6, 5, 1, 5, 5, 0, 1, 6, 3, 4, 5, 6, 0, 0, 6, 0, 4, 2,\n",
       "       6, 6, 4, 3, 5, 4, 6, 6, 6, 6, 6, 3, 4, 3, 6, 4, 3, 3, 2, 1, 2, 5,\n",
       "       6, 5, 2, 5, 5, 5, 1, 1, 6, 0, 5, 5, 0, 1, 1, 3, 1, 5, 5, 3, 0, 1,\n",
       "       0, 4, 0, 0, 3, 6, 6, 1, 3, 0, 0, 4, 5, 2, 3, 4, 4, 2, 5, 4, 4, 5,\n",
       "       0, 4, 1, 3, 0, 5, 4, 6, 1, 0, 0, 2, 4, 4, 4, 5, 5, 6, 5, 1, 4, 6,\n",
       "       4, 1, 3, 5, 0, 6, 3, 3, 3, 0, 0, 6, 0, 2, 5, 5, 6, 2, 6, 2, 6, 0,\n",
       "       5, 6, 3, 1, 4, 6, 2, 1, 4, 4, 0, 6, 0, 6, 2, 0, 2, 3, 1, 4, 1, 5,\n",
       "       5, 5, 5, 1, 3, 3, 5, 5, 5, 6, 3, 2, 2, 3, 3, 6, 3, 5, 3, 1, 3, 0,\n",
       "       4, 6, 5, 5, 4, 4, 4, 0, 4, 0, 3, 5, 1, 5, 6, 6, 2, 2, 0, 5, 6, 1,\n",
       "       1, 3, 1, 1, 0, 0, 5, 0, 1, 6, 0, 3, 5, 4, 4, 1, 3, 2, 2, 0, 4, 4,\n",
       "       0, 5, 5, 4, 5, 0, 4, 5, 6, 5, 5, 0, 5, 0, 3, 4, 4, 1, 5, 3, 0, 6,\n",
       "       2, 4, 5, 2, 0, 3, 1, 4, 4, 1, 3, 6, 5, 0, 5, 5, 2, 1, 3, 0, 4, 6,\n",
       "       0, 6, 4, 1, 6, 1, 1, 4, 3, 2, 6, 3, 6, 0, 4, 6, 1, 5, 3, 2, 0, 4,\n",
       "       2, 1, 4, 3, 4, 1, 3, 3, 0, 1, 4, 6, 2, 4, 2, 6, 2, 1, 0, 5, 1, 6,\n",
       "       6, 6, 0, 0, 0, 1, 6, 5, 1, 0, 2, 3])"
      ]
     },
     "execution_count": 7,
     "metadata": {},
     "output_type": "execute_result"
    }
   ],
   "source": [
    "y_test.values"
   ]
  },
  {
   "cell_type": "code",
   "execution_count": 8,
   "metadata": {},
   "outputs": [],
   "source": [
    "from sklearn.metrics import confusion_matrix\n",
    "cm = confusion_matrix(y_test.values, preds1)\n"
   ]
  },
  {
   "cell_type": "code",
   "execution_count": 9,
   "metadata": {},
   "outputs": [
    {
     "data": {
      "text/plain": [
       "array([[12,  6,  5,  4, 10,  5,  9],\n",
       "       [ 3,  5,  5,  8,  6,  3, 13],\n",
       "       [ 2,  5,  6,  7,  1,  2,  6],\n",
       "       [ 5,  7,  4, 12,  1,  1, 12],\n",
       "       [ 9,  2,  4,  6,  9,  8, 11],\n",
       "       [ 4,  6,  7,  6,  7, 19,  7],\n",
       "       [ 0,  4,  6,  6,  2,  2, 30]])"
      ]
     },
     "execution_count": 9,
     "metadata": {},
     "output_type": "execute_result"
    }
   ],
   "source": [
    "cm"
   ]
  },
  {
   "cell_type": "code",
   "execution_count": 11,
   "metadata": {},
   "outputs": [
    {
     "data": {
      "image/png": "[encoded data removed]",
      "text/plain": [
       "<Figure size 432x288 with 2 Axes>"
      ]
     },
     "metadata": {},
     "output_type": "display_data"
    },
    {
     "name": "stdout",
     "output_type": "stream",
     "text": [
      " alegria: 0, desgosto: 1, medo: 2, neutro: 3, raiva: 4, surpresa: 5, tristeza: 6 \n"
     ]
    }
   ],
   "source": [
    "import seaborn as sn\n",
    "import pandas as pd\n",
    "import matplotlib.pyplot as plt\n",
    "df_cm = pd.DataFrame(cm)\n",
    "sn.set(font_scale=0.8)#for label size\n",
    "sn.heatmap(df_cm, annot=True,annot_kws={\"size\": 12})# font size\n",
    "plt.tight_layout()\n",
    "plt.autoscale()\n",
    "plt.show()\n",
    "\n",
    "print(\" alegria: 0, desgosto: 1, medo: 2, neutro: 3, raiva: 4, surpresa: 5, tristeza: 6 \")\n"
   ]
  },
  {
   "cell_type": "code",
   "execution_count": null,
   "metadata": {},
   "outputs": [],
   "source": []
  }
 ],
 "metadata": {
  "kernelspec": {
   "display_name": "Python 3",
   "language": "python",
   "name": "python3"
  },
  "language_info": {
   "codemirror_mode": {
    "name": "ipython",
    "version": 3
   },
   "file_extension": ".py",
   "mimetype": "text/x-python",
   "name": "python",
   "nbconvert_exporter": "python",
   "pygments_lexer": "ipython3",
   "version": "3.6.8"
  }
 },
 "nbformat": 4,
 "nbformat_minor": 2
}
