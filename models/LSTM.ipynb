{
 "cells": [
  {
   "cell_type": "markdown",
   "metadata": {},
   "source": [
    "# Imports and program variables\n"
   ]
  },
  {
   "cell_type": "code",
   "execution_count": 1,
   "metadata": {},
   "outputs": [
    {
     "name": "stderr",
     "output_type": "stream",
     "text": [
      "Using TensorFlow backend.\n",
      "/home/moutinho/.local/lib/python3.6/site-packages/tensorflow/python/framework/dtypes.py:516: FutureWarning: Passing (type, 1) or '1type' as a synonym of type is deprecated; in a future version of numpy, it will be understood as (type, (1,)) / '(1,)type'.\n",
      "  _np_qint8 = np.dtype([(\"qint8\", np.int8, 1)])\n",
      "/home/moutinho/.local/lib/python3.6/site-packages/tensorflow/python/framework/dtypes.py:517: FutureWarning: Passing (type, 1) or '1type' as a synonym of type is deprecated; in a future version of numpy, it will be understood as (type, (1,)) / '(1,)type'.\n",
      "  _np_quint8 = np.dtype([(\"quint8\", np.uint8, 1)])\n",
      "/home/moutinho/.local/lib/python3.6/site-packages/tensorflow/python/framework/dtypes.py:518: FutureWarning: Passing (type, 1) or '1type' as a synonym of type is deprecated; in a future version of numpy, it will be understood as (type, (1,)) / '(1,)type'.\n",
      "  _np_qint16 = np.dtype([(\"qint16\", np.int16, 1)])\n",
      "/home/moutinho/.local/lib/python3.6/site-packages/tensorflow/python/framework/dtypes.py:519: FutureWarning: Passing (type, 1) or '1type' as a synonym of type is deprecated; in a future version of numpy, it will be understood as (type, (1,)) / '(1,)type'.\n",
      "  _np_quint16 = np.dtype([(\"quint16\", np.uint16, 1)])\n",
      "/home/moutinho/.local/lib/python3.6/site-packages/tensorflow/python/framework/dtypes.py:520: FutureWarning: Passing (type, 1) or '1type' as a synonym of type is deprecated; in a future version of numpy, it will be understood as (type, (1,)) / '(1,)type'.\n",
      "  _np_qint32 = np.dtype([(\"qint32\", np.int32, 1)])\n",
      "/home/moutinho/.local/lib/python3.6/site-packages/tensorflow/python/framework/dtypes.py:525: FutureWarning: Passing (type, 1) or '1type' as a synonym of type is deprecated; in a future version of numpy, it will be understood as (type, (1,)) / '(1,)type'.\n",
      "  np_resource = np.dtype([(\"resource\", np.ubyte, 1)])\n",
      "/home/moutinho/.local/lib/python3.6/site-packages/tensorboard/compat/tensorflow_stub/dtypes.py:541: FutureWarning: Passing (type, 1) or '1type' as a synonym of type is deprecated; in a future version of numpy, it will be understood as (type, (1,)) / '(1,)type'.\n",
      "  _np_qint8 = np.dtype([(\"qint8\", np.int8, 1)])\n",
      "/home/moutinho/.local/lib/python3.6/site-packages/tensorboard/compat/tensorflow_stub/dtypes.py:542: FutureWarning: Passing (type, 1) or '1type' as a synonym of type is deprecated; in a future version of numpy, it will be understood as (type, (1,)) / '(1,)type'.\n",
      "  _np_quint8 = np.dtype([(\"quint8\", np.uint8, 1)])\n",
      "/home/moutinho/.local/lib/python3.6/site-packages/tensorboard/compat/tensorflow_stub/dtypes.py:543: FutureWarning: Passing (type, 1) or '1type' as a synonym of type is deprecated; in a future version of numpy, it will be understood as (type, (1,)) / '(1,)type'.\n",
      "  _np_qint16 = np.dtype([(\"qint16\", np.int16, 1)])\n",
      "/home/moutinho/.local/lib/python3.6/site-packages/tensorboard/compat/tensorflow_stub/dtypes.py:544: FutureWarning: Passing (type, 1) or '1type' as a synonym of type is deprecated; in a future version of numpy, it will be understood as (type, (1,)) / '(1,)type'.\n",
      "  _np_quint16 = np.dtype([(\"quint16\", np.uint16, 1)])\n",
      "/home/moutinho/.local/lib/python3.6/site-packages/tensorboard/compat/tensorflow_stub/dtypes.py:545: FutureWarning: Passing (type, 1) or '1type' as a synonym of type is deprecated; in a future version of numpy, it will be understood as (type, (1,)) / '(1,)type'.\n",
      "  _np_qint32 = np.dtype([(\"qint32\", np.int32, 1)])\n",
      "/home/moutinho/.local/lib/python3.6/site-packages/tensorboard/compat/tensorflow_stub/dtypes.py:550: FutureWarning: Passing (type, 1) or '1type' as a synonym of type is deprecated; in a future version of numpy, it will be understood as (type, (1,)) / '(1,)type'.\n",
      "  np_resource = np.dtype([(\"resource\", np.ubyte, 1)])\n"
     ]
    }
   ],
   "source": [
    "import numpy as np\n",
    "from keras.models import Sequential\n",
    "from keras.layers import Dense, Dropout, Activation, Flatten\n",
    "from keras.layers import Convolution2D, Conv2D, MaxPooling2D, GlobalAveragePooling2D\n",
    "from keras.optimizers import Adam\n",
    "from keras.utils import np_utils\n",
    "from sklearn import metrics\n",
    "import pandas as pd\n",
    "\n",
    "from keras.models import Sequential\n",
    "from keras.layers.recurrent import LSTM\n",
    "from keras.layers import Dense\n",
    "from keras.optimizers import Adam\n",
    "from keras.utils import to_categorical\n",
    "from keras.models import Sequential\n",
    "from keras.layers import Dense, Dropout, Flatten, Activation\n",
    "from keras.layers import Conv2D, MaxPooling2D\n",
    "from keras.callbacks import ReduceLROnPlateau,ModelCheckpoint\n",
    "\n",
    "from time_series_dataset_loader import TimeSeriesDatasetLoader\n",
    "\n",
    "from sklearn.model_selection import train_test_split # to split dataset into train and test\n",
    "from sklearn import preprocessing"
   ]
  },
  {
   "cell_type": "code",
   "execution_count": 2,
   "metadata": {},
   "outputs": [],
   "source": [
    "DATASET_PATH = '../datasets/mfcc/'"
   ]
  },
  {
   "cell_type": "markdown",
   "metadata": {},
   "source": [
    "## Setting up train and test datasets"
   ]
  },
  {
   "cell_type": "code",
   "execution_count": 3,
   "metadata": {},
   "outputs": [],
   "source": [
    "dataset_loader = TimeSeriesDatasetLoader(DATASET_PATH)\n",
    "X, y = dataset_loader.get_dataset()"
   ]
  },
  {
   "cell_type": "code",
   "execution_count": 4,
   "metadata": {},
   "outputs": [],
   "source": [
    "X = np.asarray(X)\n",
    "y = np.asarray(y)"
   ]
  },
  {
   "cell_type": "code",
   "execution_count": 5,
   "metadata": {},
   "outputs": [
    {
     "name": "stdout",
     "output_type": "stream",
     "text": [
      "[  0.         0.         3.718682  -6.211567  -6.517241  -1.706897\n",
      "  13.20763   -5.951226  10.6546     2.279002   2.73413   -4.018963\n",
      "   2.443366 -10.94868   -5.407908  -1.182022]\n",
      "(2194, 96, 16)\n",
      "[3 2 2]\n",
      "(2194,)\n"
     ]
    }
   ],
   "source": [
    "# See X and y details\n",
    "print(X[0][0])\n",
    "print(X.shape)\n",
    "\n",
    "print(y[:3])\n",
    "print(y.shape)"
   ]
  },
  {
   "cell_type": "code",
   "execution_count": 15,
   "metadata": {},
   "outputs": [
    {
     "name": "stdout",
     "output_type": "stream",
     "text": [
      "\n",
      "X_train:\n",
      "\n",
      "[  0.          0.        -14.25719     3.455846  -15.16145     7.977123\n",
      "   0.9876127  -6.459433   14.09799     1.844768    8.872966   -1.22677\n",
      "  -0.1741815   2.052622    4.396454   -6.675041 ]\n",
      "(1535, 96, 16)\n",
      "\n",
      "X_test:\n",
      "\n",
      "[  0.           0.           3.3186       1.300419     4.076277\n",
      "   3.236997     1.846505     0.01691437   3.429048     0.5317022\n",
      "   6.805724    -0.8662508    8.978758    -2.167114     4.117155\n",
      " -13.65687   ]\n",
      "(659, 96, 16)\n",
      "\n",
      "y_train:\n",
      "\n",
      "[5 1 5]\n",
      "(1535,)\n",
      "\n",
      "y_test:\n",
      "\n",
      "[6 6 4]\n",
      "(659,)\n"
     ]
    }
   ],
   "source": [
    "# Split the dataset in train and test\n",
    "X_train, X_test, y_train, y_test = train_test_split(X, y,test_size=0.3)\n",
    "\n",
    "print(\"\\nX_train:\\n\")\n",
    "print(X_train[0][0])\n",
    "print(X_train.shape)\n",
    "\n",
    "print(\"\\nX_test:\\n\")\n",
    "print(X_test[0][0])\n",
    "print(X_test.shape)\n",
    "\n",
    "print(\"\\ny_train:\\n\")\n",
    "print(y_train[:3])\n",
    "print(y_train.shape)\n",
    "\n",
    "print(\"\\ny_test:\\n\")\n",
    "print(y_test[:3])\n",
    "print(y_test.shape)"
   ]
  },
  {
   "cell_type": "code",
   "execution_count": 16,
   "metadata": {},
   "outputs": [],
   "source": [
    "# Create categorical matrices\n",
    "y_train = to_categorical(y_train)\n",
    "y_test = to_categorical(y_test)"
   ]
  },
  {
   "cell_type": "code",
   "execution_count": 17,
   "metadata": {},
   "outputs": [
    {
     "name": "stdout",
     "output_type": "stream",
     "text": [
      "\n",
      "X_train:\n",
      "\n",
      "[  0.          0.        -14.25719     3.455846  -15.16145     7.977123\n",
      "   0.9876127  -6.459433   14.09799     1.844768    8.872966   -1.22677\n",
      "  -0.1741815   2.052622    4.396454   -6.675041 ]\n",
      "(1535, 96, 16)\n",
      "\n",
      "X_test:\n",
      "\n",
      "[  0.           0.           3.3186       1.300419     4.076277\n",
      "   3.236997     1.846505     0.01691437   3.429048     0.5317022\n",
      "   6.805724    -0.8662508    8.978758    -2.167114     4.117155\n",
      " -13.65687   ]\n",
      "(659, 96, 16)\n"
     ]
    }
   ],
   "source": [
    "num_rows = 96\n",
    "num_columns = 16\n",
    "num_channels = 1\n",
    "\n",
    "# X_train = X_train.reshape(X_train.shape[0], num_rows, num_columns, num_channels)\n",
    "# X_test = X_test.reshape(X_test.shape[0], num_rows, num_columns, num_channels)\n",
    "\n",
    "print(\"\\nX_train:\\n\")\n",
    "print(X_train[0][0])\n",
    "print(X_train.shape)\n",
    "\n",
    "print(\"\\nX_test:\\n\")\n",
    "print(X_test[0][0])\n",
    "print(X_test.shape)"
   ]
  },
  {
   "cell_type": "markdown",
   "metadata": {},
   "source": [
    "## Building and Compiling Model"
   ]
  },
  {
   "cell_type": "code",
   "execution_count": 19,
   "metadata": {},
   "outputs": [],
   "source": [
    "# Construct model 1\n",
    "model = Sequential()\n",
    "\n",
    "model.add(LSTM(units=128, dropout=0.05, recurrent_dropout=0.35, return_sequences=True, input_shape=(num_rows, num_columns)))\n",
    "model.add(LSTM(units=32,  dropout=0.05, recurrent_dropout=0.35, return_sequences=False))\n",
    "model.add(Dense(units=7, activation=\"softmax\"))\n",
    "\n",
    "model.add(Dense(7, activation='softmax'))"
   ]
  },
  {
   "cell_type": "code",
   "execution_count": 22,
   "metadata": {},
   "outputs": [],
   "source": [
    "# # top-k category accuracy\n",
    "# top3_acc = functools.partial(keras.metrics.top_k_categorical_accuracy, k=3)\n",
    "# top3_acc.__name__ = 'top3_acc'\n",
    "\n",
    "# compile the keras model\n",
    "model.compile(loss='categorical_crossentropy', optimizer='adam', metrics=['accuracy'])"
   ]
  },
  {
   "cell_type": "code",
   "execution_count": 23,
   "metadata": {},
   "outputs": [
    {
     "name": "stdout",
     "output_type": "stream",
     "text": [
      "Train on 1535 samples, validate on 659 samples\n",
      "Epoch 1/100\n",
      "1535/1535 [==============================] - 6s 4ms/step - loss: 1.7208 - accuracy: 0.3147 - val_loss: 1.8165 - val_accuracy: 0.2382\n",
      "Epoch 2/100\n",
      "1535/1535 [==============================] - 5s 3ms/step - loss: 1.6995 - accuracy: 0.3238 - val_loss: 1.8206 - val_accuracy: 0.2215\n",
      "Epoch 3/100\n",
      "1535/1535 [==============================] - 5s 3ms/step - loss: 1.6921 - accuracy: 0.3362 - val_loss: 1.8257 - val_accuracy: 0.2215\n",
      "Epoch 4/100\n",
      "1535/1535 [==============================] - 5s 3ms/step - loss: 1.6862 - accuracy: 0.3381 - val_loss: 1.8198 - val_accuracy: 0.2215\n",
      "Epoch 5/100\n",
      "1535/1535 [==============================] - 5s 3ms/step - loss: 1.6661 - accuracy: 0.3420 - val_loss: 1.8167 - val_accuracy: 0.2185\n",
      "Epoch 6/100\n",
      "1535/1535 [==============================] - 6s 4ms/step - loss: 1.6659 - accuracy: 0.3362 - val_loss: 1.8176 - val_accuracy: 0.2109\n",
      "Epoch 7/100\n",
      "1535/1535 [==============================] - 5s 3ms/step - loss: 1.6629 - accuracy: 0.3550 - val_loss: 1.8220 - val_accuracy: 0.1958\n",
      "Epoch 8/100\n",
      "1535/1535 [==============================] - 5s 3ms/step - loss: 1.6571 - accuracy: 0.3648 - val_loss: 1.8207 - val_accuracy: 0.2140\n",
      "Epoch 9/100\n",
      "1535/1535 [==============================] - 6s 4ms/step - loss: 1.6384 - accuracy: 0.3570 - val_loss: 1.8175 - val_accuracy: 0.1973\n",
      "Epoch 10/100\n",
      "1535/1535 [==============================] - 5s 3ms/step - loss: 1.6364 - accuracy: 0.3557 - val_loss: 1.8125 - val_accuracy: 0.2200\n",
      "Epoch 11/100\n",
      "1535/1535 [==============================] - 5s 3ms/step - loss: 1.6332 - accuracy: 0.3720 - val_loss: 1.8240 - val_accuracy: 0.2109\n",
      "Epoch 12/100\n",
      "1535/1535 [==============================] - 5s 3ms/step - loss: 1.6239 - accuracy: 0.3629 - val_loss: 1.8273 - val_accuracy: 0.1897\n",
      "Epoch 13/100\n",
      "1535/1535 [==============================] - 6s 4ms/step - loss: 1.6256 - accuracy: 0.3479 - val_loss: 1.8146 - val_accuracy: 0.2064\n",
      "Epoch 14/100\n",
      "1535/1535 [==============================] - 6s 4ms/step - loss: 1.6169 - accuracy: 0.3609 - val_loss: 1.8197 - val_accuracy: 0.2109\n",
      "Epoch 15/100\n",
      "1535/1535 [==============================] - 5s 4ms/step - loss: 1.5990 - accuracy: 0.3765 - val_loss: 1.8114 - val_accuracy: 0.2170\n",
      "Epoch 16/100\n",
      "1535/1535 [==============================] - 5s 4ms/step - loss: 1.5814 - accuracy: 0.3831 - val_loss: 1.8175 - val_accuracy: 0.2140\n",
      "Epoch 17/100\n",
      "1535/1535 [==============================] - 6s 4ms/step - loss: 1.5769 - accuracy: 0.3785 - val_loss: 1.8207 - val_accuracy: 0.2200\n",
      "Epoch 18/100\n",
      "1535/1535 [==============================] - 6s 4ms/step - loss: 1.5837 - accuracy: 0.3772 - val_loss: 1.8242 - val_accuracy: 0.2215\n",
      "Epoch 19/100\n",
      "1535/1535 [==============================] - 6s 4ms/step - loss: 1.5733 - accuracy: 0.3844 - val_loss: 1.8347 - val_accuracy: 0.2064\n",
      "Epoch 20/100\n",
      "1535/1535 [==============================] - 6s 4ms/step - loss: 1.5745 - accuracy: 0.3811 - val_loss: 1.8252 - val_accuracy: 0.2140\n",
      "Epoch 21/100\n",
      "1535/1535 [==============================] - 5s 3ms/step - loss: 1.5596 - accuracy: 0.4020 - val_loss: 1.8407 - val_accuracy: 0.2049\n",
      "Epoch 22/100\n",
      "1535/1535 [==============================] - 5s 3ms/step - loss: 1.5461 - accuracy: 0.3915 - val_loss: 1.8296 - val_accuracy: 0.2124\n",
      "Epoch 23/100\n",
      "1535/1535 [==============================] - 5s 4ms/step - loss: 1.5476 - accuracy: 0.3850 - val_loss: 1.8211 - val_accuracy: 0.2276\n",
      "Epoch 24/100\n",
      "1535/1535 [==============================] - 5s 4ms/step - loss: 1.5402 - accuracy: 0.3974 - val_loss: 1.8313 - val_accuracy: 0.2170\n",
      "Epoch 25/100\n",
      "1535/1535 [==============================] - 5s 3ms/step - loss: 1.5262 - accuracy: 0.4078 - val_loss: 1.8367 - val_accuracy: 0.2200\n",
      "Epoch 26/100\n",
      "1535/1535 [==============================] - 5s 4ms/step - loss: 1.5214 - accuracy: 0.4098 - val_loss: 1.8358 - val_accuracy: 0.2261\n",
      "Epoch 27/100\n",
      "1535/1535 [==============================] - 6s 4ms/step - loss: 1.4902 - accuracy: 0.4195 - val_loss: 1.8436 - val_accuracy: 0.2261\n",
      "Epoch 28/100\n",
      "1535/1535 [==============================] - 5s 4ms/step - loss: 1.4891 - accuracy: 0.4137 - val_loss: 1.8540 - val_accuracy: 0.2215\n",
      "Epoch 29/100\n",
      "1535/1535 [==============================] - 6s 4ms/step - loss: 1.4804 - accuracy: 0.4254 - val_loss: 1.8416 - val_accuracy: 0.2170\n",
      "Epoch 30/100\n",
      "1535/1535 [==============================] - 5s 4ms/step - loss: 1.4898 - accuracy: 0.4182 - val_loss: 1.8429 - val_accuracy: 0.2307\n",
      "Epoch 31/100\n",
      "1535/1535 [==============================] - 6s 4ms/step - loss: 1.5007 - accuracy: 0.4235 - val_loss: 1.8404 - val_accuracy: 0.2200\n",
      "Epoch 32/100\n",
      "1535/1535 [==============================] - 6s 4ms/step - loss: 1.4609 - accuracy: 0.4358 - val_loss: 1.8466 - val_accuracy: 0.2276\n",
      "Epoch 33/100\n",
      "1535/1535 [==============================] - 5s 3ms/step - loss: 1.4634 - accuracy: 0.4332 - val_loss: 1.8466 - val_accuracy: 0.2261\n",
      "Epoch 34/100\n",
      "1535/1535 [==============================] - 5s 3ms/step - loss: 1.4744 - accuracy: 0.4189 - val_loss: 1.8377 - val_accuracy: 0.2307\n",
      "Epoch 35/100\n",
      "1535/1535 [==============================] - 5s 3ms/step - loss: 1.4401 - accuracy: 0.4430 - val_loss: 1.8483 - val_accuracy: 0.2307\n",
      "Epoch 36/100\n",
      "1535/1535 [==============================] - 5s 3ms/step - loss: 1.4449 - accuracy: 0.4443 - val_loss: 1.8659 - val_accuracy: 0.2094\n",
      "Epoch 37/100\n",
      "1535/1535 [==============================] - 5s 3ms/step - loss: 1.4368 - accuracy: 0.4456 - val_loss: 1.8617 - val_accuracy: 0.2140\n",
      "Epoch 38/100\n",
      "1535/1535 [==============================] - 5s 3ms/step - loss: 1.4357 - accuracy: 0.4469 - val_loss: 1.8622 - val_accuracy: 0.2352\n",
      "Epoch 39/100\n",
      "1535/1535 [==============================] - 5s 3ms/step - loss: 1.4250 - accuracy: 0.4489 - val_loss: 1.8459 - val_accuracy: 0.2291\n",
      "Epoch 40/100\n",
      "1535/1535 [==============================] - 6s 4ms/step - loss: 1.4021 - accuracy: 0.4547 - val_loss: 1.8449 - val_accuracy: 0.2337\n",
      "Epoch 41/100\n",
      "1535/1535 [==============================] - 6s 4ms/step - loss: 1.4068 - accuracy: 0.4515 - val_loss: 1.8720 - val_accuracy: 0.2307\n",
      "Epoch 42/100\n",
      "1535/1535 [==============================] - 6s 4ms/step - loss: 1.3958 - accuracy: 0.4521 - val_loss: 1.8755 - val_accuracy: 0.2367\n",
      "Epoch 43/100\n",
      "1535/1535 [==============================] - 6s 4ms/step - loss: 1.3991 - accuracy: 0.4482 - val_loss: 1.8756 - val_accuracy: 0.2170\n",
      "Epoch 44/100\n",
      "1535/1535 [==============================] - 5s 4ms/step - loss: 1.3955 - accuracy: 0.4489 - val_loss: 1.8996 - val_accuracy: 0.2079\n",
      "Epoch 45/100\n",
      "1535/1535 [==============================] - 5s 3ms/step - loss: 1.3800 - accuracy: 0.4749 - val_loss: 1.8887 - val_accuracy: 0.2094\n",
      "Epoch 46/100\n",
      "1535/1535 [==============================] - 5s 3ms/step - loss: 1.3882 - accuracy: 0.4521 - val_loss: 1.8859 - val_accuracy: 0.2291\n",
      "Epoch 47/100\n",
      "1535/1535 [==============================] - 5s 3ms/step - loss: 1.3624 - accuracy: 0.4769 - val_loss: 1.8788 - val_accuracy: 0.2307\n",
      "Epoch 48/100\n",
      "1535/1535 [==============================] - 5s 3ms/step - loss: 1.3736 - accuracy: 0.4664 - val_loss: 1.8833 - val_accuracy: 0.2170\n",
      "Epoch 49/100\n",
      "1535/1535 [==============================] - 5s 4ms/step - loss: 1.3673 - accuracy: 0.4723 - val_loss: 1.8844 - val_accuracy: 0.2367\n",
      "Epoch 50/100\n",
      "1535/1535 [==============================] - 6s 4ms/step - loss: 1.3397 - accuracy: 0.4840 - val_loss: 1.8975 - val_accuracy: 0.2140\n",
      "Epoch 51/100\n",
      "1535/1535 [==============================] - 6s 4ms/step - loss: 1.3368 - accuracy: 0.4847 - val_loss: 1.9064 - val_accuracy: 0.2322\n",
      "Epoch 52/100\n",
      "1535/1535 [==============================] - 6s 4ms/step - loss: 1.3462 - accuracy: 0.4710 - val_loss: 1.9114 - val_accuracy: 0.2140\n",
      "Epoch 53/100\n",
      "1535/1535 [==============================] - 5s 3ms/step - loss: 1.3337 - accuracy: 0.4749 - val_loss: 1.8864 - val_accuracy: 0.2291\n",
      "Epoch 54/100\n",
      "1535/1535 [==============================] - 5s 3ms/step - loss: 1.3282 - accuracy: 0.4834 - val_loss: 1.8935 - val_accuracy: 0.2291\n",
      "Epoch 55/100\n",
      "1535/1535 [==============================] - 6s 4ms/step - loss: 1.3351 - accuracy: 0.4710 - val_loss: 1.8957 - val_accuracy: 0.2231\n",
      "Epoch 56/100\n",
      "1535/1535 [==============================] - 6s 4ms/step - loss: 1.2903 - accuracy: 0.5016 - val_loss: 1.9150 - val_accuracy: 0.2124\n"
     ]
    },
    {
     "name": "stdout",
     "output_type": "stream",
     "text": [
      "Epoch 57/100\n",
      "1535/1535 [==============================] - 5s 3ms/step - loss: 1.3136 - accuracy: 0.4801 - val_loss: 1.9245 - val_accuracy: 0.2200\n",
      "Epoch 58/100\n",
      "1535/1535 [==============================] - 5s 3ms/step - loss: 1.2866 - accuracy: 0.4971 - val_loss: 1.9187 - val_accuracy: 0.2109\n",
      "Epoch 59/100\n",
      "1535/1535 [==============================] - 5s 3ms/step - loss: 1.2800 - accuracy: 0.4899 - val_loss: 1.9269 - val_accuracy: 0.2094\n",
      "Epoch 60/100\n",
      "1535/1535 [==============================] - 5s 3ms/step - loss: 1.2876 - accuracy: 0.5003 - val_loss: 1.9116 - val_accuracy: 0.2170\n",
      "Epoch 61/100\n",
      "1535/1535 [==============================] - 5s 3ms/step - loss: 1.2789 - accuracy: 0.4990 - val_loss: 1.9180 - val_accuracy: 0.2215\n",
      "Epoch 62/100\n",
      "1535/1535 [==============================] - 5s 3ms/step - loss: 1.2856 - accuracy: 0.5016 - val_loss: 1.9037 - val_accuracy: 0.2246\n",
      "Epoch 63/100\n",
      "1535/1535 [==============================] - 5s 4ms/step - loss: 1.2718 - accuracy: 0.5042 - val_loss: 1.9273 - val_accuracy: 0.2170\n",
      "Epoch 64/100\n",
      "1535/1535 [==============================] - 5s 3ms/step - loss: 1.2713 - accuracy: 0.4971 - val_loss: 1.9199 - val_accuracy: 0.2170\n",
      "Epoch 65/100\n",
      "1535/1535 [==============================] - 5s 3ms/step - loss: 1.2553 - accuracy: 0.5010 - val_loss: 1.9135 - val_accuracy: 0.2155\n",
      "Epoch 66/100\n",
      "1535/1535 [==============================] - 5s 3ms/step - loss: 1.2619 - accuracy: 0.5134 - val_loss: 1.8986 - val_accuracy: 0.2352\n",
      "Epoch 67/100\n",
      "1535/1535 [==============================] - 5s 3ms/step - loss: 1.2477 - accuracy: 0.5107 - val_loss: 1.8987 - val_accuracy: 0.2276\n",
      "Epoch 68/100\n",
      "1535/1535 [==============================] - 6s 4ms/step - loss: 1.2335 - accuracy: 0.5212 - val_loss: 1.9121 - val_accuracy: 0.2473\n",
      "Epoch 69/100\n",
      "1535/1535 [==============================] - 6s 4ms/step - loss: 1.2367 - accuracy: 0.4958 - val_loss: 1.9307 - val_accuracy: 0.2185\n",
      "Epoch 70/100\n",
      "1535/1535 [==============================] - 5s 3ms/step - loss: 1.2434 - accuracy: 0.5049 - val_loss: 1.9419 - val_accuracy: 0.2261\n",
      "Epoch 71/100\n",
      "1535/1535 [==============================] - 6s 4ms/step - loss: 1.2426 - accuracy: 0.5173 - val_loss: 1.9387 - val_accuracy: 0.2352\n",
      "Epoch 72/100\n",
      "1535/1535 [==============================] - 5s 3ms/step - loss: 1.2195 - accuracy: 0.5192 - val_loss: 1.9518 - val_accuracy: 0.2215\n",
      "Epoch 73/100\n",
      "1535/1535 [==============================] - 6s 4ms/step - loss: 1.2268 - accuracy: 0.5081 - val_loss: 1.9567 - val_accuracy: 0.2261\n",
      "Epoch 74/100\n",
      "1535/1535 [==============================] - 6s 4ms/step - loss: 1.2560 - accuracy: 0.5075 - val_loss: 1.9322 - val_accuracy: 0.2094\n",
      "Epoch 75/100\n",
      "1535/1535 [==============================] - 5s 3ms/step - loss: 1.2069 - accuracy: 0.5127 - val_loss: 1.9356 - val_accuracy: 0.2200\n",
      "Epoch 76/100\n",
      "1535/1535 [==============================] - 5s 3ms/step - loss: 1.2135 - accuracy: 0.5238 - val_loss: 1.9295 - val_accuracy: 0.2307\n",
      "Epoch 77/100\n",
      "1535/1535 [==============================] - 5s 3ms/step - loss: 1.2137 - accuracy: 0.5107 - val_loss: 1.9388 - val_accuracy: 0.2276\n",
      "Epoch 78/100\n",
      "1535/1535 [==============================] - 5s 3ms/step - loss: 1.1976 - accuracy: 0.5244 - val_loss: 1.9307 - val_accuracy: 0.2215\n",
      "Epoch 79/100\n",
      "1535/1535 [==============================] - 5s 4ms/step - loss: 1.2071 - accuracy: 0.5121 - val_loss: 1.9472 - val_accuracy: 0.2307\n",
      "Epoch 80/100\n",
      "1535/1535 [==============================] - 5s 3ms/step - loss: 1.1854 - accuracy: 0.5381 - val_loss: 1.9393 - val_accuracy: 0.2367\n",
      "Epoch 81/100\n",
      "1535/1535 [==============================] - 5s 3ms/step - loss: 1.1975 - accuracy: 0.5231 - val_loss: 1.9424 - val_accuracy: 0.2291\n",
      "Epoch 82/100\n",
      "1535/1535 [==============================] - 5s 3ms/step - loss: 1.1822 - accuracy: 0.5231 - val_loss: 1.9588 - val_accuracy: 0.2276\n",
      "Epoch 83/100\n",
      "1535/1535 [==============================] - 6s 4ms/step - loss: 1.2045 - accuracy: 0.5140 - val_loss: 1.9575 - val_accuracy: 0.2337\n",
      "Epoch 84/100\n",
      "1535/1535 [==============================] - 6s 4ms/step - loss: 1.1723 - accuracy: 0.5264 - val_loss: 1.9653 - val_accuracy: 0.2276\n",
      "Epoch 85/100\n",
      "1535/1535 [==============================] - 5s 3ms/step - loss: 1.1771 - accuracy: 0.5166 - val_loss: 1.9719 - val_accuracy: 0.2215\n",
      "Epoch 86/100\n",
      "1535/1535 [==============================] - 5s 3ms/step - loss: 1.1578 - accuracy: 0.5303 - val_loss: 1.9573 - val_accuracy: 0.2261\n",
      "Epoch 87/100\n",
      "1535/1535 [==============================] - 5s 3ms/step - loss: 1.1598 - accuracy: 0.5322 - val_loss: 1.9496 - val_accuracy: 0.2246\n",
      "Epoch 88/100\n",
      "1535/1535 [==============================] - 5s 3ms/step - loss: 1.1605 - accuracy: 0.5388 - val_loss: 1.9664 - val_accuracy: 0.2352\n",
      "Epoch 89/100\n",
      "1535/1535 [==============================] - 5s 3ms/step - loss: 1.1678 - accuracy: 0.5231 - val_loss: 1.9640 - val_accuracy: 0.2231\n",
      "Epoch 90/100\n",
      "1535/1535 [==============================] - 5s 3ms/step - loss: 1.1574 - accuracy: 0.5342 - val_loss: 1.9699 - val_accuracy: 0.2231\n",
      "Epoch 91/100\n",
      "1535/1535 [==============================] - 6s 4ms/step - loss: 1.1681 - accuracy: 0.5270 - val_loss: 1.9655 - val_accuracy: 0.2261\n",
      "Epoch 92/100\n",
      "1535/1535 [==============================] - 5s 4ms/step - loss: 1.1628 - accuracy: 0.5368 - val_loss: 1.9760 - val_accuracy: 0.2200\n",
      "Epoch 93/100\n",
      "1535/1535 [==============================] - 6s 4ms/step - loss: 1.1447 - accuracy: 0.5264 - val_loss: 1.9945 - val_accuracy: 0.2170\n",
      "Epoch 94/100\n",
      "1535/1535 [==============================] - 6s 4ms/step - loss: 1.1314 - accuracy: 0.5316 - val_loss: 1.9977 - val_accuracy: 0.2170\n",
      "Epoch 95/100\n",
      "1535/1535 [==============================] - 6s 4ms/step - loss: 1.1462 - accuracy: 0.5322 - val_loss: 1.9743 - val_accuracy: 0.2170\n",
      "Epoch 96/100\n",
      "1535/1535 [==============================] - 6s 4ms/step - loss: 1.1365 - accuracy: 0.5433 - val_loss: 1.9731 - val_accuracy: 0.2231\n",
      "Epoch 97/100\n",
      "1535/1535 [==============================] - 5s 4ms/step - loss: 1.1478 - accuracy: 0.5388 - val_loss: 1.9667 - val_accuracy: 0.2200\n",
      "Epoch 98/100\n",
      "1535/1535 [==============================] - 5s 3ms/step - loss: 1.1216 - accuracy: 0.5453 - val_loss: 1.9372 - val_accuracy: 0.2367\n",
      "Epoch 99/100\n",
      "1535/1535 [==============================] - 5s 3ms/step - loss: 1.1117 - accuracy: 0.5472 - val_loss: 1.9596 - val_accuracy: 0.2261\n",
      "Epoch 100/100\n",
      "1535/1535 [==============================] - 5s 4ms/step - loss: 1.1248 - accuracy: 0.5270 - val_loss: 2.0059 - val_accuracy: 0.2215\n"
     ]
    }
   ],
   "source": [
    "# Define bath and epochs\n",
    "batch_size = 128\n",
    "epochs = 100\n",
    "\n",
    "lr_reduce = ReduceLROnPlateau(monitor='val_loss', factor=0.9, patience=20, min_lr=0.0000001)\n",
    "mcp_save = ModelCheckpoint('../models/model_checkpoints/time_series.h5', save_best_only=True, monitor='val_loss', mode='min')\n",
    "cnnhistory=model.fit(X_train, y_train, batch_size = batch_size, epochs = epochs, validation_data=(X_test, y_test), callbacks=[mcp_save, lr_reduce])"
   ]
  },
  {
   "cell_type": "code",
   "execution_count": 25,
   "metadata": {},
   "outputs": [
    {
     "name": "stdout",
     "output_type": "stream",
     "text": [
      "Model: \"sequential_4\"\n",
      "_________________________________________________________________\n",
      "Layer (type)                 Output Shape              Param #   \n",
      "=================================================================\n",
      "lstm_4 (LSTM)                (None, 96, 128)           74240     \n",
      "_________________________________________________________________\n",
      "lstm_5 (LSTM)                (None, 32)                20608     \n",
      "_________________________________________________________________\n",
      "dense_3 (Dense)              (None, 7)                 231       \n",
      "_________________________________________________________________\n",
      "dense_4 (Dense)              (None, 7)                 56        \n",
      "=================================================================\n",
      "Total params: 95,135\n",
      "Trainable params: 95,135\n",
      "Non-trainable params: 0\n",
      "_________________________________________________________________\n"
     ]
    },
    {
     "data": {
      "image/png": "[encoded data removed]",
      "text/plain": [
       "<Figure size 432x288 with 1 Axes>"
      ]
     },
     "metadata": {
      "needs_background": "light"
     },
     "output_type": "display_data"
    }
   ],
   "source": [
    "import matplotlib.pyplot as plt\n",
    "\n",
    "# Model Summary\n",
    "\n",
    "model.summary()\n",
    "\n",
    "# PLT History info\n",
    "plt.plot(cnnhistory.history['loss'])\n",
    "plt.plot(cnnhistory.history['val_loss'])\n",
    "plt.title('model loss')\n",
    "plt.ylabel('loss')\n",
    "plt.xlabel('epoch')\n",
    "plt.legend(['train', 'test'], loc='upper left')\n",
    "plt.show()"
   ]
  },
  {
   "cell_type": "code",
   "execution_count": null,
   "metadata": {},
   "outputs": [],
   "source": []
  }
 ],
 "metadata": {
  "kernelspec": {
   "display_name": "Python 3",
   "language": "python",
   "name": "python3"
  },
  "language_info": {
   "codemirror_mode": {
    "name": "ipython",
    "version": 3
   },
   "file_extension": ".py",
   "mimetype": "text/x-python",
   "name": "python",
   "nbconvert_exporter": "python",
   "pygments_lexer": "ipython3",
   "version": "3.6.9"
  }
 },
 "nbformat": 4,
 "nbformat_minor": 4
}
