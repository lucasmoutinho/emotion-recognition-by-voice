{
 "cells": [
  {
   "cell_type": "code",
   "execution_count": 3,
   "metadata": {},
   "outputs": [],
   "source": [
    "import pandas as pd # to read csv\n",
    "from sklearn.model_selection import train_test_split # to split dataset into train and test\n",
    "from sklearn import preprocessing"
   ]
  },
  {
   "cell_type": "code",
   "execution_count": 4,
   "metadata": {},
   "outputs": [
    {
     "name": "stdout",
     "output_type": "stream",
     "text": [
      "   Unnamed: 0  frameIndex  frameTime  pcm_fftMag_mfcc[0]  pcm_fftMag_mfcc[1]  \\\n",
      "0           0           0        0.0            7.244975           -8.158391   \n",
      "1           1           0        0.0            3.385026            9.644617   \n",
      "2           2           0        0.0            5.719598            5.727946   \n",
      "3           3           0        0.0            9.506989            2.332658   \n",
      "4           4           0        0.0           13.603780            6.097164   \n",
      "\n",
      "   pcm_fftMag_mfcc[2]  pcm_fftMag_mfcc[3]  pcm_fftMag_mfcc[4]  \\\n",
      "0           -6.804606           -5.951050           16.046010   \n",
      "1           -3.468472            6.205656           13.316920   \n",
      "2            6.571836           19.761210           17.956650   \n",
      "3            9.255537           11.975340           -1.812942   \n",
      "4            2.375498            3.607834           -9.201900   \n",
      "\n",
      "   pcm_fftMag_mfcc[5]  pcm_fftMag_mfcc[6]  ...  pcm_fftMag_mfcc[8]  \\\n",
      "0            4.259685            2.918404  ...           -8.787468   \n",
      "1            4.477325           -3.002632  ...           -4.892778   \n",
      "2           12.093660           -0.214987  ...           -3.547788   \n",
      "3           -4.267380           -0.082458  ...            3.021540   \n",
      "4            9.861489           17.296910  ...            5.679283   \n",
      "\n",
      "   pcm_fftMag_mfcc[9]  pcm_fftMag_mfcc[10]  pcm_fftMag_mfcc[11]  \\\n",
      "0            2.029931            -9.035371            -1.614401   \n",
      "1          -11.553520             6.817298             5.058506   \n",
      "2           -9.468735            -1.699346            -1.552975   \n",
      "3           -7.509672             1.421265            -3.389780   \n",
      "4            6.142972            -7.221199           -14.182950   \n",
      "\n",
      "   pcm_fftMag_mfcc[12]  gender  person_id  sentence_type  sentence_id emotion  \n",
      "0            -9.214661       0          5              1           l3       4  \n",
      "1           -30.312550       0          5              1           l1       4  \n",
      "2           -29.197220       0          5              1           l3       1  \n",
      "3           -24.639290       0          5              3          ns4       3  \n",
      "4           -22.747740       0          5              1           l4       1  \n",
      "\n",
      "[5 rows x 21 columns]\n",
      "(1066, 21)\n"
     ]
    }
   ],
   "source": [
    "# Read dataset\n",
    "data = pd.read_csv(\"dataset.csv\")\n",
    "\n",
    "print(data.head())\n",
    "print(data.shape)"
   ]
  },
  {
   "cell_type": "code",
   "execution_count": 9,
   "metadata": {},
   "outputs": [],
   "source": [
    "from keras.models import Sequential"
   ]
  },
  {
   "cell_type": "code",
   "execution_count": null,
   "metadata": {},
   "outputs": [],
   "source": []
  }
 ],
 "metadata": {
  "kernelspec": {
   "display_name": "Python 3",
   "language": "python",
   "name": "python3"
  },
  "language_info": {
   "codemirror_mode": {
    "name": "ipython",
    "version": 3
   },
   "file_extension": ".py",
   "mimetype": "text/x-python",
   "name": "python",
   "nbconvert_exporter": "python",
   "pygments_lexer": "ipython3",
   "version": "3.6.8"
  }
 },
 "nbformat": 4,
 "nbformat_minor": 2
}
